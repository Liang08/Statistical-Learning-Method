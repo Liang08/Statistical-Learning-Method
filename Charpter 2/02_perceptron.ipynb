{
 "metadata": {
  "language_info": {
   "codemirror_mode": {
    "name": "ipython",
    "version": 3
   },
   "file_extension": ".py",
   "mimetype": "text/x-python",
   "name": "python",
   "nbconvert_exporter": "python",
   "pygments_lexer": "ipython3",
   "version": 3
  },
  "orig_nbformat": 2
 },
 "nbformat": 4,
 "nbformat_minor": 2,
 "cells": [
  {
   "source": [
    "# 第2章 感知机"
   ],
   "cell_type": "markdown",
   "metadata": {}
  },
  {
   "source": [
    "## 例2.1"
   ],
   "cell_type": "markdown",
   "metadata": {}
  }
 ]
}